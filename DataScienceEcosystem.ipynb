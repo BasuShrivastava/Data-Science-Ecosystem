{
 "cells": [
  {
   "cell_type": "markdown",
   "id": "f7429dae",
   "metadata": {},
   "source": [
    "Data Science Tools And Ecosystem"
   ]
  },
  {
   "cell_type": "markdown",
   "id": "d239997a",
   "metadata": {},
   "source": [
    "In this notebook, Data Science Tools and Ecosystem are summarized."
   ]
  },
  {
   "cell_type": "markdown",
   "id": "892e06f3",
   "metadata": {},
   "source": [
    "**Objectives:**\n",
    "- Popular languages in Data Science\n",
    "- Libraries used by Data Scientists"
   ]
  },
  {
   "cell_type": "markdown",
   "id": "f5103491",
   "metadata": {},
   "source": [
    "Some of the popular languages that Data Scientists use are:\n",
    "1. Python\n",
    "2. R\n",
    "3. Java\n",
    "4. Julia"
   ]
  },
  {
   "cell_type": "markdown",
   "id": "836e2712",
   "metadata": {},
   "source": [
    "Some of the commonly used libraries used by Data Scientists include:\n",
    "1. Numpy\n",
    "2. Pandas\n",
    "3. Tensorflow\n",
    "4. Keras\n",
    "5. Scipy"
   ]
  },
  {
   "cell_type": "markdown",
   "id": "4c6e4b94",
   "metadata": {},
   "source": [
    "| Data Science Tools |\n",
    "| -------- |\n",
    "| Apache Spark |\n",
    "| Apache Hadoop |\n",
    "| Alteryx |"
   ]
  },
  {
   "cell_type": "markdown",
   "id": "5f84cfa8",
   "metadata": {},
   "source": [
    "Below are a few examples of evaluating arithmetic expressions in Python"
   ]
  },
  {
   "cell_type": "code",
   "execution_count": 1,
   "id": "d488b6c9",
   "metadata": {},
   "outputs": [
    {
     "data": {
      "text/plain": [
       "17"
      ]
     },
     "execution_count": 1,
     "metadata": {},
     "output_type": "execute_result"
    }
   ],
   "source": [
    "(3*4)+5"
   ]
  },
  {
   "cell_type": "code",
   "execution_count": 2,
   "id": "70d547ff",
   "metadata": {},
   "outputs": [
    {
     "name": "stdout",
     "output_type": "stream",
     "text": [
      "Hour : Minute :-->  3  :  20\n"
     ]
    }
   ],
   "source": [
    "# This will convert 200 minutes to hours by diving by 60\n",
    "min = 200\n",
    "print(\"Hour : Minute :--> \", int(min/60), \" : \", min % 60)"
   ]
  },
  {
   "cell_type": "markdown",
   "id": "79cc5dd2",
   "metadata": {},
   "source": [
    "Author\n",
    "Basu Shrivastava"
   ]
  },
  {
   "cell_type": "code",
   "execution_count": null,
   "id": "593ac2ed",
   "metadata": {},
   "outputs": [],
   "source": []
  }
 ],
 "metadata": {
  "kernelspec": {
   "display_name": "Python 3 (ipykernel)",
   "language": "python",
   "name": "python3"
  },
  "language_info": {
   "codemirror_mode": {
    "name": "ipython",
    "version": 3
   },
   "file_extension": ".py",
   "mimetype": "text/x-python",
   "name": "python",
   "nbconvert_exporter": "python",
   "pygments_lexer": "ipython3",
   "version": "3.9.7"
  }
 },
 "nbformat": 4,
 "nbformat_minor": 5
}
